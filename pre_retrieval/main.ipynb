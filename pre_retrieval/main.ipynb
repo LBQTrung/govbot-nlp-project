{
 "cells": [
  {
   "cell_type": "markdown",
   "metadata": {},
   "source": [
    "# 1\\. Chuẩn bị môi trường"
   ]
  },
  {
   "cell_type": "code",
   "execution_count": 1,
   "metadata": {},
   "outputs": [
    {
     "name": "stderr",
     "output_type": "stream",
     "text": [
      "d:\\Study_Universtiy\\y4semester2\\nlp\\govbot-nlp-project\\pre_retrieval\\venv\\Lib\\site-packages\\tqdm\\auto.py:21: TqdmWarning: IProgress not found. Please update jupyter and ipywidgets. See https://ipywidgets.readthedocs.io/en/stable/user_install.html\n",
      "  from .autonotebook import tqdm as notebook_tqdm\n"
     ]
    }
   ],
   "source": [
    "import os\n",
    "from dotenv import load_dotenv\n",
    "from pymongo import MongoClient\n",
    "from sentence_transformers import SentenceTransformer\n",
    "from pyvi.ViTokenizer import tokenize\n",
    "import chromadb\n",
    "from chromadb.config import Settings\n",
    "from rank_bm25 import BM25Okapi\n",
    "import numpy as np\n",
    "from typing import List, Dict, Any, Tuple\n",
    "import pickle\n",
    "from pathlib import Path\n",
    "from tqdm import tqdm"
   ]
  },
  {
   "cell_type": "code",
   "execution_count": 36,
   "metadata": {},
   "outputs": [
    {
     "data": {
      "text/plain": [
       "True"
      ]
     },
     "execution_count": 36,
     "metadata": {},
     "output_type": "execute_result"
    }
   ],
   "source": [
    "load_dotenv()"
   ]
  },
  {
   "cell_type": "code",
   "execution_count": 3,
   "metadata": {},
   "outputs": [
    {
     "name": "stdout",
     "output_type": "stream",
     "text": [
      "Kết nối thành công với MongoDB\n"
     ]
    }
   ],
   "source": [
    "mongo_uri = os.getenv('MONGO_URI', 'mongodb://localhost:27017')\n",
    "mongo_client = MongoClient(mongo_uri)\n",
    "\n",
    "try:\n",
    "    mongo_client.admin.command('ismaster')\n",
    "    print(\"Kết nối thành công với MongoDB\")\n",
    "except Exception as e:\n",
    "    print(f\"Lỗi kết nối với MongoDB: {e}\")"
   ]
  },
  {
   "cell_type": "code",
   "execution_count": 4,
   "metadata": {},
   "outputs": [
    {
     "name": "stdout",
     "output_type": "stream",
     "text": [
      "Số lượng documents trong collection: 297\n",
      "\n",
      "Một document mẫu:\n",
      "{'_id': ObjectId('682c320bed6d3228e1e3a71b'), 'ten': 'Cấp đổi Giấy chứng nhận đủ điều kiện về an ninh, trật tự (thực hiện tại Công an cấp xã)', 'url': 'https://dichvucong.bocongan.gov.vn/bocongan/bothutuc/tthc?matt=52572', 'status': 'pending', 'collected_at': datetime.datetime(2025, 5, 20, 10, 31, 12, 18000), 'ma_thu_tuc': '3.000244', 'linh_vuc': 'Quản lý ngành nghề kinh doanh có điều kiện', 'co_quan_thuc_hien': 'Công an Xã', 'muc_do_cung_cap_dich_vu_cong_truc_tuyen': 'Dịch vụ công trực tuyến một phần', 'cach_thuc_thuc_hien': 'Trực tiếpTrực tuyếnDịch vụ bưu chính', 'trinh_tu_thuc_hien': '- Bước 1: Tổ chức, cá nhân có nhu cầu được cấp đổi Giấy chứng nhận đủ điều kiện về an ninh, trật tự để kinh doanh một số ngành, nghề đầu tư kinh doanh có điều kiện trong những trường hợp bị hư hỏng, sai thông tin, có thay đổi nội dung thông tin ghi trên Giấy chứng nhận đủ điều kiện về an ninh, trật tự hoặc hết thời hạn sử dụng đối với Giấy chứng nhận đủ điều kiện về an ninh, trật tự được cấp trước đó nộp hồ sơ về Công an cấp xã.- Bước 2: Cán bộ tiếp nhận kiểm tra tính hợp lệ và thành phần của hồ sơ. Nếu hồ sơ hợp lệ và đầy đủ thành phần thì tiếp nhận giải quyết và gửi Giấy biên nhận hồ sơ; nếu hồ sơ chưa hợp lệ hoặc thiếu thành phần thì hướng dẫn hoàn thiện hồ sơ, đồng thời gửi Phiếu hướng dẫn hoàn thiện hồ sơ; nếu hồ sơ không đủ điều kiện hoặc không thuộc thẩm quyền giải quyết thì từ chối tiếp nhận hồ sơ và gửi thông báo về việc hồ sơ không đủ điều kiện cấp Giấy chứng nhận đủ điều kiện về an ninh, trật tự.- Bước 3: Căn cứ theo thời gian hẹn trên Giấy biên nhận hồ sơ, tổ chức, cá nhân sẽ được cơ quan có thẩm quyền giải quyết hồ sơ gửi kết quả Giấy chứng nhận đủ điều kiện về an ninh, trật tự qua Cổng dịch vụ công quốc gia hoặc Cổng dịch vụ công Bộ Công an, qua dịch vụ bưu chính hoặc nhận trực tiếp tại bộ phận tiếp nhận hồ sơ của Công an cấp xã.', 'thoi_han_giai_quyet': 'Trực tiếp04 Ngày làm việcNộp hồ sơ, nhận kết quả trực tiếp tại bộ phận tiếp nhận hồ sơ của Công an cấp xã.Trực tuyến04 Ngày làm việcNộp hồ sơ, nhận kết quả qua Cổng dịch vụ công (trừ các văn bản, giấy tờ không được phép đăng tải qua hệ thống mạng theo quy định của pháp luật).Dịch vụ bưu chính04 Ngày làm việcNộp hồ sơ, nhận kết quả qua dịch vụ bưu chính.', 'phi': '300.000đ', 'thanh_phan_ho_so': [{'Tên giấy tờ': '- Văn bản đề nghị cấp đổi Giấy chứng nhận đủ điều kiện về an ninh, trật tự của cơ sở kinh doanh (Mẫu số 03 tại Phụ lục ban hành kèm theo Nghị định số 56/2023/NĐ-CP)', 'Mẫu đơn, tờ khai': 'Mẫu số 03-KDDK-ND56.docx', 'Số lượng': 'Bản chính: 1Bản sao: 0'}, {'Tên giấy tờ': 'Bản chính Giấy chứng nhận đủ điều kiện về an ninh, trật tự đã được cấp trước đó (nếu có)', 'Mẫu đơn, tờ khai': '', 'Số lượng': 'Bản chính: 1Bản sao: 0'}, {'Tên giấy tờ': 'Bản sao hợp lệ các tài liệu chứng minh sự thay đổi của các thông tin ghi trên Giấy chứng nhận đủ điều kiện về an ninh, trật tự (nếu có)', 'Mẫu đơn, tờ khai': '', 'Số lượng': 'Bản chính: 0Bản sao: 1'}, {'Tên giấy tờ': 'Tài liệu quy định tại điểm b khoản 4 Điều 19 Nghị định số 96/2016/NĐ-CP hoặc tại điểm b khoản 3 Điều 1 Nghị định số 56/2023/NĐ-CP trong trường hợp thay đổi người đứng tên trong Giấy chứng nhận đủ điều kiện về an ninh, trật tự của cơ sở kinh doanh', 'Mẫu đơn, tờ khai': '', 'Số lượng': 'Bản chính: 1Bản sao: 0'}], 'yeu_cau_dieu_kien': 'Tùy theo từng nội dung thay đổi và đối với từng ngành, nghề đầu tư kinh doanh, cơ sở kinh doanh phải đảm bảo các điều kiện về an ninh, trật tự theo quy định lần lượt tại các Điều 7, 8 Nghị định số 96/2016/NĐ-CP.', 'bieu_mau': '', 'ket_qua_thuc_hien': 'Giấy chứng nhận đủ điều kiện về an ninh, trật tự'}\n"
     ]
    }
   ],
   "source": [
    "database = mongo_client[\"govbot\"]\n",
    "procedure_collection = database[\"bocongan_detailed\"]\n",
    "count = procedure_collection.count_documents({})\n",
    "print(f\"Số lượng documents trong collection: {count}\")\n",
    "\n",
    "# Find a random document\n",
    "one_document = procedure_collection.find_one({})\n",
    "print(\"\\nMột document mẫu:\")\n",
    "print(one_document)"
   ]
  },
  {
   "cell_type": "markdown",
   "metadata": {},
   "source": [
    "# 2\\. Embedding Model\n",
    "Dùng với Transformer để thử nghiệm, đồng thời lấy tokenizer ra để dùng cho BM25"
   ]
  },
  {
   "cell_type": "code",
   "execution_count": 5,
   "metadata": {},
   "outputs": [
    {
     "name": "stdout",
     "output_type": "stream",
     "text": [
      "Vector Embeddings:\n",
      "[[ 0.19188622  0.56831944 -0.08928554 ...  0.12282588 -0.35222918\n",
      "   0.41471392]\n",
      " [-0.07073209  0.19348213  0.08893326 ...  0.35699594 -0.4206734\n",
      "  -0.23128642]]\n"
     ]
    }
   ],
   "source": [
    "from sentence_transformers import SentenceTransformer\n",
    "\n",
    "sentences = [\"Hà Nội là thủ đô của Việt Nam\", \"Đà Nẵng là thành phố du lịch\"]\n",
    "\n",
    "model = SentenceTransformer('./vietnamese-embedding')\n",
    "embeddings = model.encode(sentences)\n",
    "print(\"Vector Embeddings:\")\n",
    "print(embeddings)"
   ]
  },
  {
   "cell_type": "markdown",
   "metadata": {},
   "source": [
    "# 3\\. BM25"
   ]
  },
  {
   "cell_type": "code",
   "execution_count": null,
   "metadata": {},
   "outputs": [
    {
     "name": "stdout",
     "output_type": "stream",
     "text": [
      "Found 297 documents in MongoDB\n"
     ]
    },
    {
     "name": "stderr",
     "output_type": "stream",
     "text": [
      "Processing documents: 100%|██████████| 297/297 [00:00<00:00, 688.95doc/s]\n"
     ]
    }
   ],
   "source": [
    "total_docs = procedure_collection.count_documents({})\n",
    "print(f\"Found {total_docs} documents in MongoDB\")\n",
    "documents = procedure_collection.find({}, {\"ten\": 1, \"linh_vuc\": 1, \"co_quan_thuc_hien\": 1, \"_id\": 1})\n",
    "\n",
    "pbar = tqdm(total=total_docs, desc=\"Processing documents\", unit=\"doc\")\n",
    "\n",
    "documents_text = []\n",
    "documents_ids = []\n",
    "documents_names = []\n",
    "\n",
    "for doc in documents:\n",
    "    tokenized_text = tokenize(doc[\"ten\"] + \" \" + doc[\"linh_vuc\"] + \" \" + doc[\"co_quan_thuc_hien\"])\n",
    "    documents_text.append(tokenized_text)\n",
    "    documents_ids.append(str(doc[\"_id\"]))\n",
    "    documents_names.append(doc[\"ten\"])\n",
    "    pbar.update(1)\n",
    "\n",
    "\n",
    "\n",
    "\n",
    "bm25 = BM25Okapi(documents_text)\n",
    "\n",
    "with open('./bm25/bm25.pkl', 'wb') as f:\n",
    "    pickle.dump(bm25, f)\n",
    "\n",
    "with open('./bm25/documents_ids.pkl', 'wb') as f:\n",
    "    pickle.dump(documents_ids, f)\n",
    "\n",
    "with open('./bm25/documents_names.pkl', 'wb') as f:\n",
    "    pickle.dump(documents_names, f)\n",
    "\n",
    "pbar.close()"
   ]
  },
  {
   "cell_type": "code",
   "execution_count": 10,
   "metadata": {},
   "outputs": [
    {
     "name": "stdout",
     "output_type": "stream",
     "text": [
      "Rank#1 with score 8.41148626359777: Thu hồi giấy chứng nhận đăng ký, biển số xe thực hiện bằng dịch vụ công trực tuyến một phần hoặc trực tiếp tại cơ quan đăng ký xe thực hiện tại cấp trung ương, cấp tỉnh, cấp xã\n",
      "Rank#2 with score 8.161561189734893: Khai báo tạm trú cho người nước ngoài tại Việt Nam bằng Phiếu khai báo tạm trú\n",
      "Rank#3 with score 7.849384819555349: Xét công nhận liệt sỹ, cấp bằng Tổ quốc ghi công và Giấy chứng nhận gia đình liệt sỹ đối với liệt sỹ và thân nhân liệt sỹ tại Công an cấp tỉnh\n",
      "Rank#4 with score 7.439766747559665: Huỷ tài khoản điện tử trong trường hợp cơ quan, tổ chức có tài khoản đề nghị bằng văn bản\n",
      "Rank#5 with score 7.228511586286211: Cấp giấy phép đến các tỉnh, thành phố của Việt Nam cho công dân Lào nhập cảnh bằng Giấy thông hành biên giới tại Công an cấp tỉnh\n",
      "Rank#6 with score 7.056301035246232: Đăng ký sang tên, di chuyển xe thực hiện tại Công an cấp tỉnh\n",
      "Rank#7 with score 6.977591915708594: Đăng ký sang tên, di chuyển xe tại Cục\n",
      "Rank#8 with score 6.952644117381302: Đăng ký sang tên, di chuyển xe thực hiện tại Công an cấp xã được phân cấp đăng ký xe\n",
      "Rank#9 with score 6.8674741651519025: Cấp lại chứng nhận đăng ký xe, biển số xe thực hiện tại Công an xã được phân cấp đăng ký xe\n",
      "Rank#10 with score 6.795278862589381: Thu hồi chứng nhận đăng ký xe, biển số xe thực hiện tại Công an cấp xã được phân cấp đăng ký xe\n",
      "Rank#11 with score 6.7597160097375095: Cấp đổi chứng nhận đăng ký xe, biển số xe thực hiện tại Công an cấp xã được phân cấp đăng ký xe\n",
      "Rank#12 with score 6.750025664200541: Cấp lại chứng nhận đăng ký xe, biển số xe thực hiện tại Cục\n",
      "Rank#13 with score 6.715472584502783: Cấp lại giấy chứng nhận đăng ký xe, biển số xe tại Công an cấp tỉnh\n",
      "Rank#14 with score 6.700271426191564: Thu hồi chứng nhận đăng ký xe, biển số xe thực hiện tại Cục\n",
      "Rank#15 with score 6.697852113723755: Cấp đổi chứng nhận đăng ký xe, biển số xe thực hiện tại Cục\n"
     ]
    }
   ],
   "source": [
    "top_k = 15\n",
    "query = \"bằng lái xe\"\n",
    "tokenized_query = tokenize(query.lower())\n",
    "bm25_scores = bm25.get_scores(tokenized_query)\n",
    "ranked_indices = np.argsort(bm25_scores)[::-1]\n",
    "for i in range(top_k):\n",
    "    print(f\"Rank#{i+1} with score {bm25_scores[ranked_indices[i]]}: {documents_names[ranked_indices[i]]}\")\n"
   ]
  },
  {
   "cell_type": "markdown",
   "metadata": {},
   "source": [
    "# 4\\. Vector Database với Vietnamese Embedding"
   ]
  },
  {
   "cell_type": "code",
   "execution_count": 11,
   "metadata": {},
   "outputs": [],
   "source": [
    "chroma_client = chromadb.PersistentClient(path=\"./chroma_db\")\n",
    "chroma_collection = chroma_client.get_or_create_collection(\n",
    "    name=\"procedure_collection\",\n",
    "    metadata={\"hnsw:space\": \"cosine\"}\n",
    ")"
   ]
  },
  {
   "cell_type": "code",
   "execution_count": 10,
   "metadata": {},
   "outputs": [
    {
     "name": "stderr",
     "output_type": "stream",
     "text": [
      "Processing embedding documents:   0%|          | 0/297 [00:13<?, ?doc/s]\n",
      "Processing embedding documents: 100%|██████████| 297/297 [00:24<00:00, 12.02doc/s]\n"
     ]
    }
   ],
   "source": [
    "documents = procedure_collection.find({}, {\"ten\": 1, \"linh_vuc\": 1, \"co_quan_thuc_hien\": 1, \"_id\": 1})\n",
    "embedding_model = SentenceTransformer('./vietnamese-embedding')\n",
    "\n",
    "pbar = tqdm(total=total_docs, desc=\"Processing embedding documents\", unit=\"doc\")\n",
    "for index, doc in enumerate(documents):\n",
    "    text = doc[\"ten\"] + \" \" + doc[\"linh_vuc\"] + \" \" + doc[\"co_quan_thuc_hien\"]\n",
    "    embedding = embedding_model.encode([text])[0]\n",
    "    chroma_collection.add(\n",
    "        ids=[str(index)],\n",
    "        embeddings=[embedding.tolist()],\n",
    "        documents=[doc[\"ten\"]],\n",
    "        metadatas=[{\"original_id\": str(doc[\"_id\"])}]\n",
    "    )\n",
    "    pbar.update(1)\n",
    "pbar.close()"
   ]
  },
  {
   "cell_type": "code",
   "execution_count": 13,
   "metadata": {},
   "outputs": [
    {
     "name": "stdout",
     "output_type": "stream",
     "text": [
      "Rank#1 with score 0.5830626487731934: Cấp giấy phép lái xe\n",
      "Rank#2 with score 0.5236132144927979: Cấp giấy phép cho trung tâm sát hạch lái xe loại 3\n",
      "Rank#3 with score 0.46963363885879517: Chấp thuận hoạt động của sân tập lái để sát hạch lái xe mô tô\n",
      "Rank#4 with score 0.4636554718017578: Thu hồi chấp thuận hoạt động của sân tập lái để sát hạch lái xe mô tô\n",
      "Rank#5 with score 0.44052112102508545: Chấp thuận lại hoạt động của sân tập lái để sát hạch lái xe mô tô\n",
      "Rank#6 with score 0.41804414987564087: Cấp đổi chứng nhận đăng ký xe, biển số xe thực hiện tại Công an cấp tỉnh\n",
      "Rank#7 with score 0.4173473119735718: Cấp đổi chứng nhận đăng ký xe, biển số xe thực hiện tại Cục\n",
      "Rank#8 with score 0.4155663847923279: Cấp lại giấy phép sát hạch cho trung tâm sát hạch lái xe loại 3\n",
      "Rank#9 with score 0.4106869697570801: Thu hồi chứng nhận đăng ký xe, biển số xe thực hiện tại Công an cấp tỉnh\n",
      "Rank#10 with score 0.41008466482162476: Cấp lại chứng nhận đăng ký xe, biển số xe thực hiện tại Cục\n"
     ]
    }
   ],
   "source": [
    "embedding_model = SentenceTransformer('./vietnamese-embedding')\n",
    "query = \"bằng lái xe\"\n",
    "embedding = embedding_model.encode([query])[0].tolist()\n",
    "result = chroma_collection.query(query_embeddings=[embedding], n_results=10)\n",
    "for i in range(len(result[\"documents\"][0])):\n",
    "    print(f\"Rank#{i+1} with score {1-result['distances'][0][i]}: {result['documents'][0][i]}\")"
   ]
  },
  {
   "cell_type": "markdown",
   "metadata": {},
   "source": [
    "# 5\\. Hybrid Search"
   ]
  },
  {
   "cell_type": "code",
   "execution_count": 30,
   "metadata": {},
   "outputs": [],
   "source": [
    "import numpy as np\n",
    "from sklearn.preprocessing import minmax_scale\n",
    "import pickle\n",
    "\n",
    "with open('./bm25/bm25.pkl', 'rb') as f:\n",
    "    bm25 = pickle.load(f)\n",
    "with open('./bm25/documents_names.pkl', 'rb') as f:\n",
    "    documents_names = pickle.load(f)\n",
    "with open('./bm25/documents_ids.pkl', 'rb') as f:\n",
    "    documents_ids = pickle.load(f)\n",
    "\n",
    "\n",
    "def hybrid_search(query, bm25, collection, alpha=0.5, top_k=10):\n",
    "    # BM25\n",
    "    tokenized_query = tokenize(query.lower())\n",
    "    bm25_scores = bm25.get_scores(tokenized_query)\n",
    "    bm25_norm = minmax_scale(bm25_scores).tolist()\n",
    "    \n",
    "    # Embedding search từ Chroma\n",
    "    embedding = embedding_model.encode([query])[0].tolist()\n",
    "    chroma_result = collection.query(query_embeddings=[embedding], n_results=297)\n",
    "    \n",
    "    # Trích xuất điểm embedding từ Chroma\n",
    "    retrieved_ids = chroma_result['ids'][0]\n",
    "    emb_scores = chroma_result['distances'][0]\n",
    "    emb_similarities = [1 - d for d in emb_scores]\n",
    "    emb_norm = minmax_scale(emb_similarities).tolist()\n",
    "\n",
    "    idx_to_emb_norm = {retrieved_ids[i]: emb_norm[i] for i in range(len(retrieved_ids))}\n",
    "\n",
    "    final_scores = []\n",
    "\n",
    "    for index in range(297):\n",
    "        bm25_score = bm25_norm[index]\n",
    "        embeding_score = idx_to_emb_norm[str(index)]\n",
    "        final_score = alpha * bm25_score + (1 - alpha) * embeding_score\n",
    "        final_scores.append(final_score)\n",
    "\n",
    "    ranked_indices = np.argsort(final_scores)[::-1]\n",
    "    for i in range(top_k):\n",
    "        print(f\"Rank#{i+1} with score {final_scores[ranked_indices[i]]}: {documents_names[ranked_indices[i]]}\")\n",
    "\n",
    "    return {documents_ids[ranked_indices[i]]: documents_names[ranked_indices[i]] for i in range(top_k)}"
   ]
  },
  {
   "cell_type": "code",
   "execution_count": 31,
   "metadata": {},
   "outputs": [
    {
     "name": "stdout",
     "output_type": "stream",
     "text": [
      "Rank#1 with score 0.9633994745076655: Cấp Giấy phép xuất khẩu pháo hoa, thuốc pháo hoa tại Cục Cảnh sát quản lý hành chính về trật tự xã hội - Bộ Công an\n",
      "Rank#2 with score 0.9377194600666728: Cấp Giấy phép xuất khẩu pháo hoa nổ, thuốc pháo nổ và thiết bị, phụ kiện bắn pháo hoa nổ tại Cục Cảnh sát quản lý hành chính về trật tự xã hội - Bộ Công an\n",
      "Rank#3 with score 0.9288855966628933: Cấp giấy phép nhập khẩu pháo hoa, thuốc pháo hoa tại Cục Cảnh sát quản lý hành chính về trật tự xã hội - Bộ Công an\n",
      "Rank#4 with score 0.9061507863122871: Cấp Giấy phép xuất khẩu, nhập khẩu vũ khí tại Cục Cảnh sát quản lý hành chính về trật tự xã hội - Bộ Công an\n",
      "Rank#5 with score 0.9004475810628655: Cấp Giấy phép nhập khẩu pháo hoa nổ, thuốc pháo nổ và thiết bị, phụ kiện bắn pháo hoa nổ tại Cục Cảnh sát quản lý hành chính về trật tự xã hội - Bộ Công an\n",
      "Rank#6 with score 0.8800467507577695: Cấp Giấy phép xuất khẩu, nhập khẩu công cụ hỗ trợ thực hiện tại Cục\n",
      "Rank#7 with score 0.8602381875119547: Cấp Giấy phép vận chuyển pháo hoa để kinh doanh (thực hiện tại cấp tỉnh)\n",
      "Rank#8 with score 0.8463314834203405: Cấp giấy phép vận chuyển pháo hoa để kinh doanh tại Cục Cảnh sát quản lý hành chính về trật tự xã hội - Bộ Công an\n",
      "Rank#9 with score 0.7920536683979584: Cấp Giấy phép vận chuyển vật liệu nổ công nghiệp thực hiện tại Công an cấp tỉnh\n",
      "Rank#10 with score 0.785971018258838: Cấp giấy phép mua pháo hoa để kinh doanh tại Cục Cảnh sát quản lý hành chính về trật tự xã hội - Bộ Công an\n"
     ]
    },
    {
     "data": {
      "text/plain": [
       "{'682c3222ed6d3228e1e3a77e': 'Cấp Giấy phép xuất khẩu pháo hoa, thuốc pháo hoa tại Cục Cảnh sát quản lý hành chính về trật tự xã hội - Bộ Công an',\n",
       " '682c3338e160eafd4442f21f': 'Cấp Giấy phép xuất khẩu pháo hoa nổ, thuốc pháo nổ và thiết bị, phụ kiện bắn pháo hoa nổ tại Cục Cảnh sát quản lý hành chính về trật tự xã hội - Bộ Công an',\n",
       " '682c3222ed6d3228e1e3a781': 'Cấp giấy phép nhập khẩu pháo hoa, thuốc pháo hoa tại Cục Cảnh sát quản lý hành chính về trật tự xã hội - Bộ Công an',\n",
       " '682c325ded6d3228e1e3a7fb': 'Cấp Giấy phép xuất khẩu, nhập khẩu vũ khí tại Cục Cảnh sát quản lý hành chính về trật tự xã hội - Bộ Công an',\n",
       " '682c3233ed6d3228e1e3a7ba': 'Cấp Giấy phép nhập khẩu pháo hoa nổ, thuốc pháo nổ và thiết bị, phụ kiện bắn pháo hoa nổ tại Cục Cảnh sát quản lý hành chính về trật tự xã hội - Bộ Công an',\n",
       " '682c321ded6d3228e1e3a765': 'Cấp Giấy phép xuất khẩu, nhập khẩu công cụ hỗ trợ thực hiện tại Cục',\n",
       " '682c3233ed6d3228e1e3a7c5': 'Cấp Giấy phép vận chuyển pháo hoa để kinh doanh (thực hiện tại cấp tỉnh)',\n",
       " '682c3222ed6d3228e1e3a779': 'Cấp giấy phép vận chuyển pháo hoa để kinh doanh tại Cục Cảnh sát quản lý hành chính về trật tự xã hội - Bộ Công an',\n",
       " '682c3215ed6d3228e1e3a746': 'Cấp Giấy phép vận chuyển vật liệu nổ công nghiệp thực hiện tại Công an cấp tỉnh',\n",
       " '682c3222ed6d3228e1e3a77f': 'Cấp giấy phép mua pháo hoa để kinh doanh tại Cục Cảnh sát quản lý hành chính về trật tự xã hội - Bộ Công an'}"
      ]
     },
     "execution_count": 31,
     "metadata": {},
     "output_type": "execute_result"
    }
   ],
   "source": [
    "query = \"Giấy phép xuất khẩu pháo ho\"\n",
    "hybrid_search(query, bm25, chroma_collection, alpha=0.3, top_k=10)"
   ]
  },
  {
   "cell_type": "code",
   "execution_count": 29,
   "metadata": {},
   "outputs": [
    {
     "data": {
      "text/plain": [
       "{'_id': ObjectId('682c3222ed6d3228e1e3a77e'),\n",
       " 'ten': 'Cấp Giấy phép xuất khẩu pháo hoa, thuốc pháo hoa tại Cục Cảnh sát quản lý hành chính về trật tự xã hội - Bộ Công an',\n",
       " 'url': 'https://dichvucong.bocongan.gov.vn/bocongan/bothutuc/tthc?matt=26455',\n",
       " 'status': 'pending',\n",
       " 'collected_at': datetime.datetime(2025, 5, 20, 10, 31, 21, 631000),\n",
       " 'ma_thu_tuc': '3.000170',\n",
       " 'linh_vuc': 'Quản lý vũ khí, vật liệu nổ,  công cụ hỗ trợ và pháo',\n",
       " 'co_quan_thuc_hien': 'Cục cảnh sát quản lý hành chính về trật tự, xã hội',\n",
       " 'muc_do_cung_cap_dich_vu_cong_truc_tuyen': 'Dịch vụ công trực tuyến toàn trình',\n",
       " 'cach_thuc_thuc_hien': 'Trực tiếpTrực tuyếnDịch vụ bưu chính',\n",
       " 'trinh_tu_thuc_hien': 'Bước 1: Cơ quan, tổ chức, doanh nghiệp ở trung ương có nhu cầu cấp giấy phép xuất khẩu pháo hoa, thuốc pháo hoa nộp hồ sơ tại Cục Cảnh sát quản lý hành chính về trật tự xã hội - Bộ Công an vào giờ hành chính các ngày làm việc trong tuần, qua Cổng dịch vụ công trực tuyến hoặc qua dịch vụ bưu chính.Bước 2: Cán bộ tiếp nhận kiểm tra tính hợp lệ và thành phần của hồ sơ. Nếu hồ sơ đủ điều kiện, thủ tục thì tiếp nhận hồ sơ, giao giấy biên nhận hoặc thông báo trên Cổng dịch vụ công trực tuyến cho người được cơ quan, tổ chức, doanh nghiệp giao nộp hồ sơ. Trường hợp hồ sơ đủ điều kiện nhưng thiếu thủ tục hoặc kê khai chưa đầy đủ, chính xác thì hướng dẫn bằng văn bản hoặc thông báo trên Cổng dịch vụ công trực tuyến ghi rõ thủ tục, nội dung cần bổ sung, kê khai. Trường hợp hồ sơ không đủ điều kiện thì không tiếp nhận hồ sơ và trả lời bằng văn bản hoặc thông báo trên Cổng dịch vụ công trực tuyến nêu rõ lý do không tiếp nhận hồ sơ.Bước 3: Căn cứ theo ngày hẹn trên giấy biên nhận hoặc thông báo trên Cổng dịch vụ công trực tuyến, cơ quan, tổ chức, doanh nghiệp được cấp giấy phép xuất khẩu pháo hoa, thuốc pháo hoa đến nhận giấy phép xuất khẩu pháo hoa, thuốc pháo hoa hoặc nhận qua Cổng dịch vụ công trực tuyến, qua dịch vụ bưu chính.',\n",
       " 'thoi_han_giai_quyet': 'Trực tiếp05 Ngày làm việcNộp hồ sơ tại Cục Cảnh sát quản lý hành chính về trật tự xã hội - Bộ Công an.Trực tuyến05 Ngày làm việcNộp hồ sơ trực tuyến qua Cổng Dịch vụ công quốc gia hoặc Cổng dịch vụ công Bộ Công anDịch vụ bưu chính05 Ngày làm việcNộp hồ sơ, trả kết quả qua dịch vụ bưu chính.',\n",
       " 'phi': 'Không',\n",
       " 'thanh_phan_ho_so': [{'Tên giấy tờ': 'Văn bản đề nghị ghi rõ tên, địa chỉ của tổ chức, doanh nghiệp thuộc Bộ Quốc phòng; mã số doanh nghiệp; số, ngày cấp giấy chứng nhận đủ điều kiện về an ninh trật tự; họ tên, chức vụ, số Căn cước công dân, Chứng minh nhân dân hoặc Hộ chiếu của người đại diện theo pháp luật; chủng loại, số lượng pháo hoa, thuốc pháo hoa; phương tiện vận chuyển, biển kiểm soát; cửa khẩu xuất khẩu, nhập khẩu theo mẫu quy định tại Phụ lục VI ban hành kèm theo Nghị định số 56/2023/NĐ-CP. Trường hợp tổ chức, doanh nghiệp trực tiếp nộp văn bản đề nghị tại Cục Cảnh sát Quản lý hành chính về trật tự xã hội thì văn bản đề nghị bổ sung họ tên, số Căn cước công dân, Chứng minh nhân dân hoặc Hộ chiếu của người đến liên hệ.',\n",
       "   'Mẫu đơn, tờ khai': 'Phụ lục VI - NĐ56.docx',\n",
       "   'Số lượng': 'Bản chính: 1Bản sao: 0'}],\n",
       " 'yeu_cau_dieu_kien': 'Theo đúng quy định tại Điều 14 Nghị định số 137/2020/NĐ-CP ngày 27/11/2020, cụ thể:a) Tổ chức, doanh nghiệp thuộc Bộ Quốc phòng được phép nghiên cứu, sản xuất pháo hoa, thuốc pháo hoa thì được xuất khẩu pháo hoa, thuốc pháo hoa;b) Pháo hoa xuất khẩu phải bảo đảm tiêu chuẩn, quy chuẩn kỹ thuật; chủng loại, nhãn hiệu, số hiệu, ký hiệu, nước sản xuất, năm sản xuất, hạn sử dụng trên từng loại pháo hoa.',\n",
       " 'bieu_mau': 'File mẫu:Danh sách đề nghị được xuất khẩu, nhập khẩu PL2Tải về',\n",
       " 'ket_qua_thuc_hien': 'Giấy phép xuất khẩu, nhập khẩu pháo hoa, thuốc pháo hoa'}"
      ]
     },
     "execution_count": 29,
     "metadata": {},
     "output_type": "execute_result"
    }
   ],
   "source": [
    "from bson import ObjectId\n",
    "\n",
    "procedure_collection.find_one({\"_id\": ObjectId(\"682c3222ed6d3228e1e3a77e\")})"
   ]
  },
  {
   "cell_type": "markdown",
   "metadata": {},
   "source": [
    "# 6\\. Lọc ứng viên bằng Gemini"
   ]
  },
  {
   "cell_type": "code",
   "execution_count": 38,
   "metadata": {},
   "outputs": [],
   "source": [
    "from google import genai\n",
    "\n",
    "gemini_client = genai.Client(api_key=os.getenv(\"GEMINI_API_KEY\"))"
   ]
  },
  {
   "cell_type": "code",
   "execution_count": 39,
   "metadata": {},
   "outputs": [],
   "source": [
    "from pydantic import BaseModel\n",
    "\n",
    "class OutputFormat(BaseModel):\n",
    "  related_procedures: list[str]"
   ]
  },
  {
   "cell_type": "code",
   "execution_count": 40,
   "metadata": {},
   "outputs": [],
   "source": [
    "SYSTEM_PROMPT = \"\"\"\n",
    "You are a helpful assistant in a Retrieval-Augmented Generation (RAG) system.\n",
    "Your task is to filter a list of procedures based on the USER QUERY and the dictionary of TOP-10 CANDIDATE PROCEDURES with format {{id: procedure_title}}\n",
    "You need to analyze the relevance of each procedure title to the user's query and select the most relevant ones.\n",
    "Return at most 3 IDs of procedures that are clearly relevant to the query. If fewer than 3 are clearly relevant, return fewer. If none are relevant, return an empty list.\n",
    "\n",
    "# OUTPUT FORMAT: in JSON format:\n",
    "{{ \"related_procedures\": [\"id1\", \"id2\", \"id3\"] }}\n",
    "\n",
    "# EXAMPLE:\n",
    "- User ask: \"Thủ tục xuất khẩu pháo hoa đi nước ngoài\"\n",
    "- Candidate procedures:\n",
    "{{\n",
    "  \"682c3222ed6d3228e1e3a77e\": \"Cấp Giấy phép xuất khẩu pháo hoa, thuốc pháo hoa tại Cục Cảnh sát quản lý hành chính về trật tự xã hội - Bộ Công an\",\n",
    "  \"682c3338e160eafd4442f21f\": \"Cấp Giấy phép xuất khẩu pháo hoa nổ, thuốc pháo nổ và thiết bị, phụ kiện bắn pháo hoa nổ tại Cục Cảnh sát quản lý hành chính về trật tự xã hội - Bộ Công an\",\n",
    "  \"682c3222ed6d3228e1e3a781\": \"Cấp giấy phép nhập khẩu pháo hoa, thuốc pháo hoa tại Cục Cảnh sát quản lý hành chính về trật tự xã hội - Bộ Công an\",\n",
    "  \"682c325ded6d3228e1e3a7fb\": \"Cấp Giấy phép xuất khẩu, nhập khẩu vũ khí tại Cục Cảnh sát quản lý hành chính về trật tự xã hội - Bộ Công an\",\n",
    "  \"682c3233ed6d3228e1e3a7ba\": \"Cấp Giấy phép nhập khẩu pháo hoa nổ, thuốc pháo nổ và thiết bị, phụ kiện bắn pháo hoa nổ tại Cục Cảnh sát quản lý hành chính về trật tự xã hội - Bộ Công an\",\n",
    "  \"682c321ded6d3228e1e3a765\": \"Cấp Giấy phép xuất khẩu, nhập khẩu công cụ hỗ trợ thực hiện tại Cục\",\n",
    "  \"682c3233ed6d3228e1e3a7c5\": \"Cấp Giấy phép vận chuyển pháo hoa để kinh doanh (thực hiện tại cấp tỉnh)\",\n",
    "  \"682c3222ed6d3228e1e3a779\": \"Cấp giấy phép vận chuyển pháo hoa để kinh doanh tại Cục Cảnh sát quản lý hành chính về trật tự xã hội - Bộ Công an\",\n",
    "  \"682c3215ed6d3228e1e3a746\": \"Cấp Giấy phép vận chuyển vật liệu nổ công nghiệp thực hiện tại Công an cấp tỉnh\",\n",
    "  \"682c3222ed6d3228e1e3a77f\": \"Cấp giấy phép mua pháo hoa để kinh doanh tại Cục Cảnh sát quản lý hành chính về trật tự xã hội - Bộ Công an\"\n",
    "}}\n",
    "- Output:\n",
    "{{\n",
    "  \"related_procedures\": [\n",
    "    \"682c3222ed6d3228e1e3a77e\",\n",
    "    \"682c3338e160eafd4442f21f\"\n",
    "  ]\n",
    "}}\n",
    "\n",
    "BEGIN!\n",
    "\"\"\""
   ]
  },
  {
   "cell_type": "code",
   "execution_count": 41,
   "metadata": {},
   "outputs": [],
   "source": [
    "def filter_procedures_with_gemini(user_query, candidates: dict):\n",
    "    user_prompt = f\"\"\"\n",
    "    # USER QUERY: {user_query}\n",
    "    # TOP-10 CANDIDATE PROCEDURES: {candidates}\n",
    "    \"\"\"\n",
    "    response = gemini_client.models.generate_content(\n",
    "        model=\"gemini-2.0-flash-lite\",\n",
    "        config={\n",
    "        'response_mime_type': 'application/json',\n",
    "        'response_schema': OutputFormat,\n",
    "        \"temperature\": 0,\n",
    "        \"system_instruction\": SYSTEM_PROMPT\n",
    "        },\n",
    "        contents=[user_prompt]\n",
    "    )\n",
    "    return response.parsed.__dict__"
   ]
  },
  {
   "cell_type": "markdown",
   "metadata": {},
   "source": [
    "# 7\\. Pipeline hoàn chỉnh"
   ]
  },
  {
   "cell_type": "code",
   "execution_count": 55,
   "metadata": {},
   "outputs": [
    {
     "name": "stdout",
     "output_type": "stream",
     "text": [
      "Rank#1 with score 0.9806974337087901: Cấp đổi Giấy chứng nhận đủ điều kiện về an ninh, trật tự (thực hiện tại Công an cấp xã)\n",
      "Rank#2 with score 0.9675599053328352: Cấp đổi Giấy chứng nhận đủ điều kiện về an ninh, trật tự (thực hiện tại cấp tỉnh)\n",
      "Rank#3 with score 0.9423406825762455: Cấp lại Giấy chứng nhận đủ điều kiện về an ninh, trật tự (thực hiện tại Công an cấp xã)\n",
      "Rank#4 with score 0.9318752790005665: Cấp lại Giấy chứng nhận đủ điều kiện về an ninh, trật tự\n",
      "Rank#5 with score 0.9295614488155634: Cấp đổi Giấy chứng nhận đủ điều kiện về an ninh, trật tự (thực hiện tại cấp Trung ương)\n",
      "Rank#6 with score 0.9023852047671701: Cấp mới Giấy chứng nhận đủ điều kiện về an ninh, trật tự (thực hiện tại cấp xã)\n",
      "Rank#7 with score 0.8984195221208964: Cấp lại Giấy chứng nhận đủ điều kiện về an ninh, trật tự (thực hiện tại cấp tỉnh)\n",
      "Rank#8 with score 0.8963869321461236: Cấp đổi Giấy xác nhận đủ điều kiện kinh doanh dịch vụ phòng cháy và chữa cháy (thực hiện tại cấp tỉnh)\n",
      "Rank#9 with score 0.8938106344980115: Cấp lại Giấy chứng nhận đủ điều kiện về an ninh, trật tự (thực hiện tại cấp trung ương)\n",
      "Rank#10 with score 0.8718512706151899: Cấp mới Giấy chứng nhận đủ điều kiện về an ninh, trật tự (thực hiện tại cấp tỉnh)\n",
      "['682c320bed6d3228e1e3a71b', '682c3210ed6d3228e1e3a730', '682c320ced6d3228e1e3a727']\n"
     ]
    },
    {
     "data": {
      "text/plain": [
       "[{'_id': ObjectId('682c320bed6d3228e1e3a71b'),\n",
       "  'ten': 'Cấp đổi Giấy chứng nhận đủ điều kiện về an ninh, trật tự (thực hiện tại Công an cấp xã)',\n",
       "  'url': 'https://dichvucong.bocongan.gov.vn/bocongan/bothutuc/tthc?matt=52572',\n",
       "  'status': 'pending',\n",
       "  'collected_at': datetime.datetime(2025, 5, 20, 10, 31, 12, 18000),\n",
       "  'ma_thu_tuc': '3.000244',\n",
       "  'linh_vuc': 'Quản lý ngành nghề kinh doanh có điều kiện',\n",
       "  'co_quan_thuc_hien': 'Công an Xã',\n",
       "  'muc_do_cung_cap_dich_vu_cong_truc_tuyen': 'Dịch vụ công trực tuyến một phần',\n",
       "  'cach_thuc_thuc_hien': 'Trực tiếpTrực tuyếnDịch vụ bưu chính',\n",
       "  'trinh_tu_thuc_hien': '- Bước 1: Tổ chức, cá nhân có nhu cầu được cấp đổi Giấy chứng nhận đủ điều kiện về an ninh, trật tự để kinh doanh một số ngành, nghề đầu tư kinh doanh có điều kiện trong những trường hợp bị hư hỏng, sai thông tin, có thay đổi nội dung thông tin ghi trên Giấy chứng nhận đủ điều kiện về an ninh, trật tự hoặc hết thời hạn sử dụng đối với Giấy chứng nhận đủ điều kiện về an ninh, trật tự được cấp trước đó nộp hồ sơ về Công an cấp xã.- Bước 2: Cán bộ tiếp nhận kiểm tra tính hợp lệ và thành phần của hồ sơ. Nếu hồ sơ hợp lệ và đầy đủ thành phần thì tiếp nhận giải quyết và gửi Giấy biên nhận hồ sơ; nếu hồ sơ chưa hợp lệ hoặc thiếu thành phần thì hướng dẫn hoàn thiện hồ sơ, đồng thời gửi Phiếu hướng dẫn hoàn thiện hồ sơ; nếu hồ sơ không đủ điều kiện hoặc không thuộc thẩm quyền giải quyết thì từ chối tiếp nhận hồ sơ và gửi thông báo về việc hồ sơ không đủ điều kiện cấp Giấy chứng nhận đủ điều kiện về an ninh, trật tự.- Bước 3: Căn cứ theo thời gian hẹn trên Giấy biên nhận hồ sơ, tổ chức, cá nhân sẽ được cơ quan có thẩm quyền giải quyết hồ sơ gửi kết quả Giấy chứng nhận đủ điều kiện về an ninh, trật tự qua Cổng dịch vụ công quốc gia hoặc Cổng dịch vụ công Bộ Công an, qua dịch vụ bưu chính hoặc nhận trực tiếp tại bộ phận tiếp nhận hồ sơ của Công an cấp xã.',\n",
       "  'thoi_han_giai_quyet': 'Trực tiếp04 Ngày làm việcNộp hồ sơ, nhận kết quả trực tiếp tại bộ phận tiếp nhận hồ sơ của Công an cấp xã.Trực tuyến04 Ngày làm việcNộp hồ sơ, nhận kết quả qua Cổng dịch vụ công (trừ các văn bản, giấy tờ không được phép đăng tải qua hệ thống mạng theo quy định của pháp luật).Dịch vụ bưu chính04 Ngày làm việcNộp hồ sơ, nhận kết quả qua dịch vụ bưu chính.',\n",
       "  'phi': '300.000đ',\n",
       "  'thanh_phan_ho_so': [{'Tên giấy tờ': '- Văn bản đề nghị cấp đổi Giấy chứng nhận đủ điều kiện về an ninh, trật tự của cơ sở kinh doanh (Mẫu số 03 tại Phụ lục ban hành kèm theo Nghị định số 56/2023/NĐ-CP)',\n",
       "    'Mẫu đơn, tờ khai': 'Mẫu số 03-KDDK-ND56.docx',\n",
       "    'Số lượng': 'Bản chính: 1Bản sao: 0'},\n",
       "   {'Tên giấy tờ': 'Bản chính Giấy chứng nhận đủ điều kiện về an ninh, trật tự đã được cấp trước đó (nếu có)',\n",
       "    'Mẫu đơn, tờ khai': '',\n",
       "    'Số lượng': 'Bản chính: 1Bản sao: 0'},\n",
       "   {'Tên giấy tờ': 'Bản sao hợp lệ các tài liệu chứng minh sự thay đổi của các thông tin ghi trên Giấy chứng nhận đủ điều kiện về an ninh, trật tự (nếu có)',\n",
       "    'Mẫu đơn, tờ khai': '',\n",
       "    'Số lượng': 'Bản chính: 0Bản sao: 1'},\n",
       "   {'Tên giấy tờ': 'Tài liệu quy định tại điểm b khoản 4 Điều 19 Nghị định số 96/2016/NĐ-CP hoặc tại điểm b khoản 3 Điều 1 Nghị định số 56/2023/NĐ-CP trong trường hợp thay đổi người đứng tên trong Giấy chứng nhận đủ điều kiện về an ninh, trật tự của cơ sở kinh doanh',\n",
       "    'Mẫu đơn, tờ khai': '',\n",
       "    'Số lượng': 'Bản chính: 1Bản sao: 0'}],\n",
       "  'yeu_cau_dieu_kien': 'Tùy theo từng nội dung thay đổi và đối với từng ngành, nghề đầu tư kinh doanh, cơ sở kinh doanh phải đảm bảo các điều kiện về an ninh, trật tự theo quy định lần lượt tại các Điều 7, 8 Nghị định số 96/2016/NĐ-CP.',\n",
       "  'bieu_mau': '',\n",
       "  'ket_qua_thuc_hien': 'Giấy chứng nhận đủ điều kiện về an ninh, trật tự'},\n",
       " {'_id': ObjectId('682c320ced6d3228e1e3a727'),\n",
       "  'ten': 'Cấp đổi Giấy chứng nhận đủ điều kiện về an ninh, trật tự (thực hiện tại cấp Trung ương)',\n",
       "  'url': 'https://dichvucong.bocongan.gov.vn/bocongan/bothutuc/tthc?matt=26593',\n",
       "  'status': 'pending',\n",
       "  'collected_at': datetime.datetime(2025, 5, 20, 10, 31, 12, 18000),\n",
       "  'ma_thu_tuc': '1.003176',\n",
       "  'linh_vuc': 'Quản lý ngành nghề kinh doanh có điều kiện',\n",
       "  'co_quan_thuc_hien': 'Cục Cảnh sát quản lý hành chính về trật tự xã hội',\n",
       "  'muc_do_cung_cap_dich_vu_cong_truc_tuyen': 'Dịch vụ công trực tuyến toàn trình',\n",
       "  'cach_thuc_thuc_hien': 'Trực tiếpTrực tuyếnDịch vụ bưu chính',\n",
       "  'trinh_tu_thuc_hien': '- Bước 1: Tổ chức, cá nhân có nhu cầu được cấp đổi Giấy chứng nhận đủ điều kiện về an ninh, trật tự để kinh doanh một số ngành, nghề đầu tư kinh doanh có điều kiện trong những trường hợp bị hư hỏng, sai thông tin, có thay đổi nội dung thông tin ghi trên Giấy chứng nhận đủ điều kiện về an ninh, trật tự hoặc hết thời hạn sử dụng đối với Giấy chứng nhận đủ điều kiện về an ninh, trật tự được cấp trước đó nộp hồ sơ về Cục Cảnh sát quản lý hành chính về trật tự xã hội, Bộ Công an.- Bước 2: Cán bộ tiếp nhận kiểm tra tính hợp lệ và thành phần của hồ sơ. Nếu hồ sơ hợp lệ và đầy đủ thành phần thì tiếp nhận giải quyết và gửi Giấy biên nhận hồ sơ; nếu hồ sơ chưa hợp lệ hoặc thiếu thành phần thì hướng dẫn hoàn thiện hồ sơ, đồng thời gửi Phiếu hướng dẫn hoàn thiện hồ sơ; nếu hồ sơ không đủ điều kiện hoặc không thuộc thẩm quyền giải quyết thì từ chối tiếp nhận hồ sơ và gửi thông báo về việc hồ sơ không đủ điều kiện cấp Giấy chứng nhận đủ điều kiện về an ninh, trật tự.- Bước 3: Căn cứ theo thời gian hẹn trên Giấy biên nhận hồ sơ, tổ chức, cá nhân sẽ được cơ quan có thẩm quyền giải quyết hồ sơ gửi kết quả Giấy chứng nhận đủ điều kiện về an ninh, trật tự qua Cổng dịch vụ công quốc gia hoặc Cổng dịch vụ công Bộ Công an, qua dịch vụ bưu chính hoặc nhận trực tiếp tại bộ phận tiếp nhận hồ sơ của Cục Cảnh sát quản lý hành chính về trật tự xã hội, Bộ Công an.',\n",
       "  'thoi_han_giai_quyet': 'Trực tiếp4 Ngày làm việc- Nộp hồ sơ, nhận kết quả trực tiếp tại bộ phận tiếp nhận hồ sơ của Cục Cảnh sát quản lý hành chính về trật tự xã hội, Bộ Công an.Trực tuyến4 Ngày làm việcNộp hồ sơ, nhận kết quả qua Cổng dịch vụ công (trừ các văn bản, giấy tờ không được phép đăng tải qua hệ thống mạng theo quy định của pháp luật).Dịch vụ bưu chính4 Ngày làm việcNộp hồ sơ, nhận kết quả qua dịch vụ bưu chính.',\n",
       "  'phi': '300.000đ',\n",
       "  'thanh_phan_ho_so': [{'Tên giấy tờ': 'Bản chính Giấy chứng nhận đủ điều kiện về an ninh, trật tự đã được cấp trước đó (nếu có).',\n",
       "    'Mẫu đơn, tờ khai': '',\n",
       "    'Số lượng': 'Bản chính: 1Bản sao: 0'},\n",
       "   {'Tên giấy tờ': 'Bản sao hợp lệ các tài liệu chứng minh sự thay đổi của các thông tin ghi trên Giấy chứng nhận đủ điều kiện về an ninh, trật tự (nếu có)',\n",
       "    'Mẫu đơn, tờ khai': '',\n",
       "    'Số lượng': 'Bản chính: 0Bản sao: 1'},\n",
       "   {'Tên giấy tờ': 'Tài liệu quy định tại điểm b khoản 4 Điều 19 Nghị định số 96/2016/NĐ-CP hoặc tại điểm b khoản 3 Điều 1 Nghị định số 56/2023/NĐ-CP trong trường hợp thay đổi người đứng tên trong Giấy chứng nhận đủ điều kiện về an ninh, trật tự của cơ sở kinh doanh',\n",
       "    'Mẫu đơn, tờ khai': '',\n",
       "    'Số lượng': 'Bản chính: 1Bản sao: 0'},\n",
       "   {'Tên giấy tờ': 'Văn bản đề nghị cấp đổi Giấy chứng nhận đủ điều kiện về an ninh, trật tự của cơ sở kinh doanh (Mẫu số 03 tại Phụ lục ban hành kèm theo Nghị định số 56/2023/NĐ-CP)',\n",
       "    'Mẫu đơn, tờ khai': 'Mẫu số 03-KDDK-ND56.docx',\n",
       "    'Số lượng': 'Bản chính: 1Bản sao: 0'}],\n",
       "  'yeu_cau_dieu_kien': 'Tùy theo từng nội dung thay đổi và đối với từng ngành, nghề đầu tư kinh doanh, cơ sở kinh doanh phải đảm bảo các điều kiện về an ninh, trật tự theo quy định lần lượt tại các Điều 7, 8, 11, 13 Nghị định số 96/2016/NĐ-CP.Trường hợp nộp hồ sơ trực tuyến: văn bản, giấy tờ trong hồ sơ là văn bản điện tử được ký số bởi người có thẩm quyền và ký số của cơ quan, tổ chức theo quy định của pháp luật (văn bản điện tử có định dạng là PDF).',\n",
       "  'bieu_mau': '',\n",
       "  'ket_qua_thuc_hien': 'Giấy chứng nhận đủ điều kiện về an ninh, trật tự'},\n",
       " {'_id': ObjectId('682c3210ed6d3228e1e3a730'),\n",
       "  'ten': 'Cấp đổi Giấy chứng nhận đủ điều kiện về an ninh, trật tự (thực hiện tại cấp tỉnh)',\n",
       "  'url': 'https://dichvucong.bocongan.gov.vn/bocongan/bothutuc/tthc?matt=40839',\n",
       "  'status': 'pending',\n",
       "  'collected_at': datetime.datetime(2025, 5, 20, 10, 31, 12, 18000),\n",
       "  'ma_thu_tuc': '2.001402',\n",
       "  'linh_vuc': 'Quản lý ngành nghề kinh doanh có điều kiện',\n",
       "  'co_quan_thuc_hien': 'Công an huyện',\n",
       "  'muc_do_cung_cap_dich_vu_cong_truc_tuyen': 'Dịch vụ công trực tuyến toàn trình',\n",
       "  'cach_thuc_thuc_hien': 'Trực tiếpTrực tuyếnDịch vụ bưu chính',\n",
       "  'trinh_tu_thuc_hien': 'Bước 1: Tổ chức, cá nhân có nhu cầu được cấp đổi Giấy chứng nhận đủ điều kiện về an ninh, trật tự nộp hồ sơ trực tiếp hoặc qua dịch vụ bưu chính tại Cục Cảnh sát quản lý hành chính về trật tự xã hội - Bộ Công an vào giờ hành chính các ngày làm việc trong tuần hoặc nộp hồ sơ trực tuyến qua Cổng Dịch vụ công quốc gia hoặc Cổng dịch vụ công Bộ Công an.Bước 2: Cán bộ tiếp nhận kiểm tra thông tin, thành phần, tính hợp lệ của hồ sơ.- Nếu hồ sơ hợp lệ và đủ thành phần thì tiếp nhận hồ sơ giải quyết và gửi Giấy biên nhận hồ sơ trực tiếp hoặc qua dịch vụ bưu chính hoặc qua tài khoản trên cổng dịch vụ công hoặc qua thư điện tử (nếu có) cho cơ sở kinh doanh hoặc người được cử đến liên hệ nộp hồ sơ.- Nếu hồ sơ không hợp lệ hoặc thiếu thành phần thì không tiếp nhận hồ sơ và gửi Phiếu hướng dẫn hoàn thiện hồ sơ trực tiếp hoặc qua dịch vụ bưu chính hoặc qua thư điện tử (nếu có) cho cơ sở kinh doanh hoặc người được cử đến liên hệ nộp hồ sơ.- Nếu hồ sơ không đủ điều kiện theo thì không tiếp nhận hồ sơ, nêu rõ lý do từ chối giải quyết hồ sơ và gửi Thông báo về việc hồ sơ không đủ điều kiện trực tiếp hoặc qua dịch vụ bưu chính hoặc hoặc qua tài khoản trên cổng dịch vụ công hoặc qua thư điện tử (nếu có).Bước 3: Căn cứ theo ngày hẹn trên Giấy biên nhận hồ sơ, tổ chức, cá nhân đến nơi nộp hồ sơ để nhận kết quả Giấy chứng nhận đủ điều kiện về an ninh, trật tự hoặc nhận kết quả qua dịch vụ bưu chính sau khi đã hoàn thành nộp phí thẩm định.',\n",
       "  'thoi_han_giai_quyet': 'Trực tiếp4 Ngày làm việc+ Nộp hồ sơ trực tiếp tại trụ sở cơ quan Phòng Cảnh sát quản lý hành chính về trật tự xã hội - Công an tỉnh, thành phố trực thuộc Trung ương;Trực tuyến4 Ngày làm việc+ Nộp hồ sơ trực tuyến qua Cổng Dịch vụ công quốc gia hoặc Cổng dịch vụ công Bộ Công an.Dịch vụ bưu chính4 Ngày làm việc+ Nộp hồ sơ qua dịch vụ bưu chính;',\n",
       "  'phi': '300.000đ',\n",
       "  'thanh_phan_ho_so': [{'Tên giấy tờ': 'Bản sao hợp lệ các tài liệu chứng minh sự thay đổi của các thông tin ghi trên Giấy chứng nhận đủ điều kiện về an ninh, trật tự (nếu có);',\n",
       "    'Mẫu đơn, tờ khai': 'Mẫu số 02b.doc',\n",
       "    'Số lượng': 'Bản chính: 0Bản sao: 1'},\n",
       "   {'Tên giấy tờ': 'Tài liệu quy định tại khoản 4 Điều 19 Nghị định số 96/2016/NĐ-CP trong trường hợp thay đổi người đứng tên trong Giấy chứng nhận đủ điều kiện về an ninh, trật tự của cơ sở kinh doanh',\n",
       "    'Mẫu đơn, tờ khai': 'Mẫu số 02.doc',\n",
       "    'Số lượng': 'Bản chính: 1Bản sao: 0'},\n",
       "   {'Tên giấy tờ': 'Bản chính Giấy chứng nhận đủ điều kiện về an ninh, trật tự đã được cấp',\n",
       "    'Mẫu đơn, tờ khai': '',\n",
       "    'Số lượng': 'Bản chính: 1Bản sao: 0'},\n",
       "   {'Tên giấy tờ': 'Văn bản đề nghị cấp đổi Giấy chứng nhận đủ điều kiện về an ninh, trật tự của cơ sở kinh doanh (Mẫu số 03 tại Phụ lục ban hành kèm theo Nghị định số 96/2016/NĐ-CP) gửi cơ quan Công an có thẩm quyền',\n",
       "    'Mẫu đơn, tờ khai': 'Mẫu số 03.doc',\n",
       "    'Số lượng': 'Bản chính: 1Bản sao: 0'}],\n",
       "  'yeu_cau_dieu_kien': 'Tùy theo từng nội dung thay đổi và đối với từng ngành, nghề đầu tư kinh doanh, cơ sở kinh doanh phải đảm bảo các điều kiện về an ninh, trật tự theo quy định lần lượt tại các Điều 7, 8, 11, 13 Nghị định số 96/2016/NĐ-CP.Trường hợp nộp hồ sơ trực tuyến: Văn bản, giấy tờ trong hồ sơ là văn bản điện tử được ký số bởi người có thẩm quyền và ký số của cơ quan, tổ chức theo quy định của pháp luật (văn bản điện tử có định dạng là PDF).',\n",
       "  'bieu_mau': '',\n",
       "  'ket_qua_thuc_hien': 'Giấy chứng nhận đủ điều kiện về an ninh, trật tự'}]"
      ]
     },
     "execution_count": 55,
     "metadata": {},
     "output_type": "execute_result"
    }
   ],
   "source": [
    "from bson import ObjectId\n",
    "\n",
    "query = \"Thời gian giải quyết thủ tục cấp đổi Giấy chứng nhận đủ điều kiện về an ninh, trật tự tại Công an cấp xã và cấp Trung ương có gì khác nhau không?\"\n",
    "candidates = hybrid_search(query, bm25, chroma_collection, alpha=0.3, top_k=10)\n",
    "\n",
    "related_procedures = filter_procedures_with_gemini(query, candidates)[\"related_procedures\"]\n",
    "\n",
    "print(related_procedures)\n",
    "\n",
    "# Query the database for the related procedures\n",
    "related_procedures_docs = procedure_collection.find({\"_id\": {\"$in\": [ObjectId(id) for id in related_procedures]}})\n",
    "list(related_procedures_docs)\n",
    "\n",
    "\n"
   ]
  },
  {
   "cell_type": "markdown",
   "metadata": {},
   "source": [
    "# 8\\. Đánh giá mô hình trích xuất"
   ]
  },
  {
   "cell_type": "code",
   "execution_count": null,
   "metadata": {},
   "outputs": [],
   "source": []
  }
 ],
 "metadata": {
  "kernelspec": {
   "display_name": "venv",
   "language": "python",
   "name": "python3"
  },
  "language_info": {
   "codemirror_mode": {
    "name": "ipython",
    "version": 3
   },
   "file_extension": ".py",
   "mimetype": "text/x-python",
   "name": "python",
   "nbconvert_exporter": "python",
   "pygments_lexer": "ipython3",
   "version": "3.11.9"
  }
 },
 "nbformat": 4,
 "nbformat_minor": 2
}
